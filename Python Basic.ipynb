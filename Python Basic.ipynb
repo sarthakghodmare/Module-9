{
 "cells": [
  {
   "cell_type": "code",
   "execution_count": 1,
   "id": "13590bbe-3b81-4c42-a17a-250e1f9c5a96",
   "metadata": {},
   "outputs": [
    {
     "data": {
      "text/plain": [
       "2"
      ]
     },
     "execution_count": 1,
     "metadata": {},
     "output_type": "execute_result"
    }
   ],
   "source": [
    "1+1"
   ]
  },
  {
   "cell_type": "code",
   "execution_count": null,
   "id": "60fb390c-8144-40c4-ac76-c5b859eedc95",
   "metadata": {},
   "outputs": [],
   "source": []
  },
  {
   "cell_type": "code",
   "execution_count": 2,
   "id": "6d9cc2f3-af53-41b5-9b65-d39466388492",
   "metadata": {},
   "outputs": [
    {
     "data": {
      "text/plain": [
       "25"
      ]
     },
     "execution_count": 2,
     "metadata": {},
     "output_type": "execute_result"
    }
   ],
   "source": [
    "5*5"
   ]
  },
  {
   "cell_type": "code",
   "execution_count": 3,
   "id": "1c31d82a-7cfe-4612-82b8-74bcc46894ff",
   "metadata": {},
   "outputs": [],
   "source": [
    "a=10\n"
   ]
  },
  {
   "cell_type": "code",
   "execution_count": 4,
   "id": "c4f92412-c39e-463f-b84a-d420094eeeae",
   "metadata": {},
   "outputs": [
    {
     "name": "stdout",
     "output_type": "stream",
     "text": [
      "10\n"
     ]
    }
   ],
   "source": [
    "print (a)\n"
   ]
  },
  {
   "cell_type": "code",
   "execution_count": 5,
   "id": "dbe4f5c0-4faa-4216-953e-b33b9fd2c0df",
   "metadata": {},
   "outputs": [],
   "source": [
    "a=10"
   ]
  },
  {
   "cell_type": "code",
   "execution_count": 6,
   "id": "53ec0cf8-5137-476f-b9a8-d248b9a6d49c",
   "metadata": {},
   "outputs": [
    {
     "data": {
      "text/plain": [
       "int"
      ]
     },
     "execution_count": 6,
     "metadata": {},
     "output_type": "execute_result"
    }
   ],
   "source": [
    "type(a)"
   ]
  },
  {
   "cell_type": "code",
   "execution_count": 7,
   "id": "1a4d2c86-39e2-4f00-bc39-cf8a470b688b",
   "metadata": {},
   "outputs": [
    {
     "data": {
      "text/plain": [
       "True"
      ]
     },
     "execution_count": 7,
     "metadata": {},
     "output_type": "execute_result"
    }
   ],
   "source": [
    "True"
   ]
  },
  {
   "cell_type": "code",
   "execution_count": 8,
   "id": "dd46b05c-296f-4a11-b85e-282f4581024d",
   "metadata": {},
   "outputs": [
    {
     "data": {
      "text/plain": [
       "bool"
      ]
     },
     "execution_count": 8,
     "metadata": {},
     "output_type": "execute_result"
    }
   ],
   "source": [
    "type(True)\n"
   ]
  },
  {
   "cell_type": "code",
   "execution_count": 9,
   "id": "ab19993d-0c9c-4659-a352-c8d7f211578e",
   "metadata": {},
   "outputs": [],
   "source": [
    "b=\"sar\""
   ]
  },
  {
   "cell_type": "code",
   "execution_count": 10,
   "id": "48d0c49c-804a-4cbe-a336-7b00530ee92c",
   "metadata": {},
   "outputs": [
    {
     "data": {
      "text/plain": [
       "str"
      ]
     },
     "execution_count": 10,
     "metadata": {},
     "output_type": "execute_result"
    }
   ],
   "source": [
    "type(b)"
   ]
  },
  {
   "cell_type": "code",
   "execution_count": 11,
   "id": "1f87362d-5adb-4c5b-a574-d83bb68219dc",
   "metadata": {},
   "outputs": [],
   "source": [
    "v=5+2j"
   ]
  },
  {
   "cell_type": "code",
   "execution_count": 12,
   "id": "06664e3b-6903-4e25-8009-2a41609b6094",
   "metadata": {},
   "outputs": [
    {
     "data": {
      "text/plain": [
       "complex"
      ]
     },
     "execution_count": 12,
     "metadata": {},
     "output_type": "execute_result"
    }
   ],
   "source": [
    "type(v)\n",
    "     "
   ]
  },
  {
   "cell_type": "code",
   "execution_count": 13,
   "id": "86ad20da-076b-4301-9766-45ad8bd0f1f5",
   "metadata": {},
   "outputs": [
    {
     "data": {
      "text/plain": [
       "5.0"
      ]
     },
     "execution_count": 13,
     "metadata": {},
     "output_type": "execute_result"
    }
   ],
   "source": [
    "v.real\n",
    "\n",
    "\n"
   ]
  },
  {
   "cell_type": "code",
   "execution_count": 14,
   "id": "a9d7f799-155b-4eb7-b8b1-0411547adc91",
   "metadata": {},
   "outputs": [
    {
     "data": {
      "text/plain": [
       "(5+2j)"
      ]
     },
     "execution_count": 14,
     "metadata": {},
     "output_type": "execute_result"
    }
   ],
   "source": [
    "v"
   ]
  },
  {
   "cell_type": "code",
   "execution_count": 15,
   "id": "15602481-c5a9-4182-934b-64501935cc1c",
   "metadata": {},
   "outputs": [
    {
     "data": {
      "text/plain": [
       "2.0"
      ]
     },
     "execution_count": 15,
     "metadata": {},
     "output_type": "execute_result"
    }
   ],
   "source": [
    "v.imag"
   ]
  },
  {
   "cell_type": "code",
   "execution_count": 17,
   "id": "9e9a64d4-60f1-48a3-80ae-6d0016986ec6",
   "metadata": {},
   "outputs": [
    {
     "name": "stdout",
     "output_type": "stream",
     "text": [
      "my name is sarthak\n"
     ]
    }
   ],
   "source": [
    "print(\"my name is sarthak\")"
   ]
  },
  {
   "cell_type": "code",
   "execution_count": 18,
   "id": "5177cdda-8711-45bc-9a82-b743a93148d5",
   "metadata": {},
   "outputs": [
    {
     "data": {
      "text/plain": [
       "(5+2j)"
      ]
     },
     "execution_count": 18,
     "metadata": {},
     "output_type": "execute_result"
    }
   ],
   "source": [
    "v"
   ]
  },
  {
   "cell_type": "code",
   "execution_count": 19,
   "id": "45d9c3fa-5144-4e34-b29a-761461f44601",
   "metadata": {},
   "outputs": [],
   "source": [
    "s=\"sarthak\"\n"
   ]
  },
  {
   "cell_type": "code",
   "execution_count": 20,
   "id": "1558f580-2976-48c5-8527-fec153f05cb2",
   "metadata": {},
   "outputs": [
    {
     "data": {
      "text/plain": [
       "'sarthak'"
      ]
     },
     "execution_count": 20,
     "metadata": {},
     "output_type": "execute_result"
    }
   ],
   "source": [
    "s"
   ]
  },
  {
   "cell_type": "code",
   "execution_count": 25,
   "id": "fa4d3ece-8137-4eed-bf7d-9d5fc7cafceb",
   "metadata": {},
   "outputs": [
    {
     "data": {
      "text/plain": [
       "str"
      ]
     },
     "execution_count": 25,
     "metadata": {},
     "output_type": "execute_result"
    }
   ],
   "source": [
    "type(s)"
   ]
  },
  {
   "cell_type": "code",
   "execution_count": 28,
   "id": "0a26f93f-992e-400a-b74f-071ba6d5e5be",
   "metadata": {},
   "outputs": [
    {
     "data": {
      "text/plain": [
       "'s'"
      ]
     },
     "execution_count": 28,
     "metadata": {},
     "output_type": "execute_result"
    }
   ],
   "source": [
    "s[0]\n",
    "#forward indexing"
   ]
  },
  {
   "cell_type": "code",
   "execution_count": 29,
   "id": "6c9f581d-da8a-477e-9c49-cf342892b270",
   "metadata": {},
   "outputs": [
    {
     "data": {
      "text/plain": [
       "'k'"
      ]
     },
     "execution_count": 29,
     "metadata": {},
     "output_type": "execute_result"
    }
   ],
   "source": [
    "s[-1]#backward indexing"
   ]
  },
  {
   "cell_type": "code",
   "execution_count": 30,
   "id": "0740e2f7-e2f8-417e-bb91-278c8facab24",
   "metadata": {},
   "outputs": [
    {
     "data": {
      "text/plain": [
       "'sar'"
      ]
     },
     "execution_count": 30,
     "metadata": {},
     "output_type": "execute_result"
    }
   ],
   "source": [
    "s[0:3] #It will start from lower index to higher index and gives  all data accept higher index, in this case upper bound 0 and  3 is lower bound ! 3 accept omly  0 to 2 value printited"
   ]
  },
  {
   "cell_type": "code",
   "execution_count": 35,
   "id": "141dea21-5d12-421d-a57a-2d3445099327",
   "metadata": {},
   "outputs": [
    {
     "data": {
      "text/plain": [
       "'sarthak'"
      ]
     },
     "execution_count": 35,
     "metadata": {},
     "output_type": "execute_result"
    }
   ],
   "source": [
    "s"
   ]
  },
  {
   "cell_type": "code",
   "execution_count": 40,
   "id": "c34d8d51-91ca-4b6e-9a2f-0efb1b07e36f",
   "metadata": {},
   "outputs": [
    {
     "data": {
      "text/plain": [
       "'a'"
      ]
     },
     "execution_count": 40,
     "metadata": {},
     "output_type": "execute_result"
    }
   ],
   "source": [
    "s[-2]"
   ]
  },
  {
   "cell_type": "code",
   "execution_count": 42,
   "id": "0bfeedfc-a28f-435b-b618-a68c35fb0460",
   "metadata": {},
   "outputs": [
    {
     "data": {
      "text/plain": [
       "'stk'"
      ]
     },
     "execution_count": 42,
     "metadata": {},
     "output_type": "execute_result"
    }
   ],
   "source": [
    "s[0:8:3]"
   ]
  },
  {
   "cell_type": "code",
   "execution_count": 44,
   "id": "c05fd5ab-fec3-4b46-a0e4-c29d3d757a70",
   "metadata": {},
   "outputs": [
    {
     "data": {
      "text/plain": [
       "'srhk'"
      ]
     },
     "execution_count": 44,
     "metadata": {},
     "output_type": "execute_result"
    }
   ],
   "source": [
    "s[0:8:2]# we gave here start index and last +1 index and jump by 2"
   ]
  },
  {
   "cell_type": "code",
   "execution_count": 45,
   "id": "c0cd583f-3f5b-4689-ad3c-c5ad3d13f5c6",
   "metadata": {},
   "outputs": [
    {
     "data": {
      "text/plain": [
       "'srhk'"
      ]
     },
     "execution_count": 45,
     "metadata": {},
     "output_type": "execute_result"
    }
   ],
   "source": [
    "s[::2] #only jumming perform in this case"
   ]
  },
  {
   "cell_type": "code",
   "execution_count": 47,
   "id": "37fc4278-6ce2-44e2-b07a-136f22fb8e8c",
   "metadata": {},
   "outputs": [
    {
     "ename": "ValueError",
     "evalue": "slice step cannot be zero",
     "output_type": "error",
     "traceback": [
      "\u001b[0;31m---------------------------------------------------------------------------\u001b[0m",
      "\u001b[0;31mValueError\u001b[0m                                Traceback (most recent call last)",
      "Cell \u001b[0;32mIn[47], line 1\u001b[0m\n\u001b[0;32m----> 1\u001b[0m \u001b[43ms\u001b[49m\u001b[43m[\u001b[49m\u001b[38;5;241;43m2\u001b[39;49m\u001b[43m:\u001b[49m\u001b[43m:\u001b[49m\u001b[38;5;241;43m0\u001b[39;49m\u001b[43m]\u001b[49m\n",
      "\u001b[0;31mValueError\u001b[0m: slice step cannot be zero"
     ]
    }
   ],
   "source": [
    "s[2::0]\n"
   ]
  },
  {
   "cell_type": "code",
   "execution_count": 50,
   "id": "b6e7ee76-1861-4c81-a2c6-53712190c82d",
   "metadata": {},
   "outputs": [
    {
     "data": {
      "text/plain": [
       "'rthak'"
      ]
     },
     "execution_count": 50,
     "metadata": {},
     "output_type": "execute_result"
    }
   ],
   "source": [
    "s[2::1]"
   ]
  },
  {
   "cell_type": "code",
   "execution_count": 52,
   "id": "86b47c58-7aae-4af9-a0cd-921be22d9c93",
   "metadata": {},
   "outputs": [
    {
     "data": {
      "text/plain": [
       "'rhk'"
      ]
     },
     "execution_count": 52,
     "metadata": {},
     "output_type": "execute_result"
    }
   ],
   "source": [
    "s[2::2]"
   ]
  },
  {
   "cell_type": "code",
   "execution_count": 53,
   "id": "a292c260-20c0-4fd7-a576-d390af9e17e3",
   "metadata": {},
   "outputs": [
    {
     "data": {
      "text/plain": [
       "'kahtras'"
      ]
     },
     "execution_count": 53,
     "metadata": {},
     "output_type": "execute_result"
    }
   ],
   "source": [
    "s[::-1]"
   ]
  },
  {
   "cell_type": "code",
   "execution_count": 54,
   "id": "52ee3dc7-d03c-4a6d-b1ec-ec7837f512ce",
   "metadata": {},
   "outputs": [
    {
     "data": {
      "text/plain": [
       "'sarthak'"
      ]
     },
     "execution_count": 54,
     "metadata": {},
     "output_type": "execute_result"
    }
   ],
   "source": [
    "s"
   ]
  },
  {
   "cell_type": "code",
   "execution_count": 55,
   "id": "5946749a-43a5-4e93-b5bd-19c0d19cb8da",
   "metadata": {},
   "outputs": [
    {
     "data": {
      "text/plain": [
       "'khrs'"
      ]
     },
     "execution_count": 55,
     "metadata": {},
     "output_type": "execute_result"
    }
   ],
   "source": [
    "s[::-2]"
   ]
  },
  {
   "cell_type": "code",
   "execution_count": 56,
   "id": "a872f9f3-8e80-4e2f-b5dc-879ddbbfbe18",
   "metadata": {},
   "outputs": [
    {
     "data": {
      "text/plain": [
       "''"
      ]
     },
     "execution_count": 56,
     "metadata": {},
     "output_type": "execute_result"
    }
   ],
   "source": [
    "s[2:7:-1]#conflict rise here because in number line 2 and 7 are in postive side and -1 is in negative side both are im differnt direction "
   ]
  },
  {
   "cell_type": "code",
   "execution_count": 59,
   "id": "0f5ddde0-7574-4ad5-b978-fc9d11fcf62c",
   "metadata": {},
   "outputs": [
    {
     "data": {
      "text/plain": [
       "'kahtra'"
      ]
     },
     "execution_count": 59,
     "metadata": {},
     "output_type": "execute_result"
    }
   ],
   "source": [
    "s[8:0:-1] #In this case upper bound is 8 and 0 is lower bound not print 0 value -(s) .-1 is jump"
   ]
  },
  {
   "cell_type": "code",
   "execution_count": 61,
   "id": "be77cdc4-6819-4a6b-b525-a051090686c3",
   "metadata": {},
   "outputs": [
    {
     "data": {
      "text/plain": [
       "''"
      ]
     },
     "execution_count": 61,
     "metadata": {},
     "output_type": "execute_result"
    }
   ],
   "source": [
    "s[-2:-8:1]"
   ]
  },
  {
   "cell_type": "code",
   "execution_count": 62,
   "id": "63521513-7f0c-4d78-9a80-c0dc868e24c0",
   "metadata": {},
   "outputs": [
    {
     "data": {
      "text/plain": [
       "'ahtras'"
      ]
     },
     "execution_count": 62,
     "metadata": {},
     "output_type": "execute_result"
    }
   ],
   "source": [
    "s[-2::-1]"
   ]
  },
  {
   "cell_type": "code",
   "execution_count": 63,
   "id": "520a8ab9-613f-4e69-a396-434aefccbace",
   "metadata": {},
   "outputs": [
    {
     "data": {
      "text/plain": [
       "'sarthak'"
      ]
     },
     "execution_count": 63,
     "metadata": {},
     "output_type": "execute_result"
    }
   ],
   "source": [
    "s[::]"
   ]
  },
  {
   "cell_type": "code",
   "execution_count": 64,
   "id": "6f7c32ba-9091-4aec-82f9-7f141c2b7700",
   "metadata": {},
   "outputs": [
    {
     "ename": "IndexError",
     "evalue": "string index out of range",
     "output_type": "error",
     "traceback": [
      "\u001b[0;31m---------------------------------------------------------------------------\u001b[0m",
      "\u001b[0;31mIndexError\u001b[0m                                Traceback (most recent call last)",
      "Cell \u001b[0;32mIn[64], line 1\u001b[0m\n\u001b[0;32m----> 1\u001b[0m \u001b[43ms\u001b[49m\u001b[43m[\u001b[49m\u001b[38;5;241;43m90\u001b[39;49m\u001b[43m]\u001b[49m\n",
      "\u001b[0;31mIndexError\u001b[0m: string index out of range"
     ]
    }
   ],
   "source": [
    "s[90] #indixing"
   ]
  },
  {
   "cell_type": "code",
   "execution_count": 65,
   "id": "ab0af6db-d124-431d-beca-8bb3b0ceccf5",
   "metadata": {},
   "outputs": [
    {
     "data": {
      "text/plain": [
       "''"
      ]
     },
     "execution_count": 65,
     "metadata": {},
     "output_type": "execute_result"
    }
   ],
   "source": [
    "s[:-90:]"
   ]
  },
  {
   "cell_type": "code",
   "execution_count": 66,
   "id": "81c9781c-4a77-46a7-b610-bb455c15da1a",
   "metadata": {},
   "outputs": [
    {
     "data": {
      "text/plain": [
       "'kahtras'"
      ]
     },
     "execution_count": 66,
     "metadata": {},
     "output_type": "execute_result"
    }
   ],
   "source": [
    "s[:-90:-1]"
   ]
  },
  {
   "cell_type": "code",
   "execution_count": 68,
   "id": "60856880-7dab-4bef-959a-c50c5f49b25e",
   "metadata": {},
   "outputs": [],
   "source": [
    "c=200"
   ]
  },
  {
   "cell_type": "code",
   "execution_count": 69,
   "id": "b2602395-7bc5-44c7-827f-821c6fd4c5a7",
   "metadata": {},
   "outputs": [
    {
     "data": {
      "text/plain": [
       "int"
      ]
     },
     "execution_count": 69,
     "metadata": {},
     "output_type": "execute_result"
    }
   ],
   "source": [
    "type(c)"
   ]
  },
  {
   "cell_type": "code",
   "execution_count": 70,
   "id": "6e3bdc8a-8137-4611-bc21-807fcf376aea",
   "metadata": {},
   "outputs": [],
   "source": [
    "s1=\"this is my string class\" #string manipulation"
   ]
  },
  {
   "cell_type": "code",
   "execution_count": 71,
   "id": "0a73d602-82f5-44e4-87b1-00afbbf31fc4",
   "metadata": {},
   "outputs": [
    {
     "data": {
      "text/plain": [
       "7"
      ]
     },
     "execution_count": 71,
     "metadata": {},
     "output_type": "execute_result"
    }
   ],
   "source": [
    "len(s)"
   ]
  },
  {
   "cell_type": "code",
   "execution_count": 72,
   "id": "2e638630-2351-4a92-9c59-14836879e1e7",
   "metadata": {},
   "outputs": [
    {
     "data": {
      "text/plain": [
       "23"
      ]
     },
     "execution_count": 72,
     "metadata": {},
     "output_type": "execute_result"
    }
   ],
   "source": [
    "len(s1)"
   ]
  },
  {
   "cell_type": "code",
   "execution_count": 74,
   "id": "d4829a0f-3630-4f4a-9543-c581eca33183",
   "metadata": {},
   "outputs": [
    {
     "data": {
      "text/plain": [
       "3"
      ]
     },
     "execution_count": 74,
     "metadata": {},
     "output_type": "execute_result"
    }
   ],
   "source": [
    "s1.find(\"s\")#it will find indexing of first s"
   ]
  },
  {
   "cell_type": "code",
   "execution_count": 75,
   "id": "55024f40-7586-4e47-888c-9302e73e657a",
   "metadata": {},
   "outputs": [
    {
     "data": {
      "text/plain": [
       "2"
      ]
     },
     "execution_count": 75,
     "metadata": {},
     "output_type": "execute_result"
    }
   ],
   "source": [
    "s1.find(\"i\")"
   ]
  },
  {
   "cell_type": "code",
   "execution_count": 76,
   "id": "080aafa6-483d-4d61-91f6-608f2bc5bdd6",
   "metadata": {},
   "outputs": [
    {
     "data": {
      "text/plain": [
       "-1"
      ]
     },
     "execution_count": 76,
     "metadata": {},
     "output_type": "execute_result"
    }
   ],
   "source": [
    "s1.find(\"iS\") #python is case sensitive language  if it is enable to find index it will show -1"
   ]
  },
  {
   "cell_type": "code",
   "execution_count": 77,
   "id": "387ed6ec-5b74-40ee-b19b-5b6976a24e6c",
   "metadata": {},
   "outputs": [
    {
     "data": {
      "text/plain": [
       "5"
      ]
     },
     "execution_count": 77,
     "metadata": {},
     "output_type": "execute_result"
    }
   ],
   "source": [
    "s1.count(\"s\")"
   ]
  },
  {
   "cell_type": "code",
   "execution_count": 78,
   "id": "75c97ac8-37d9-47a1-8c49-6a3807751e4f",
   "metadata": {},
   "outputs": [
    {
     "data": {
      "text/plain": [
       "True"
      ]
     },
     "execution_count": 78,
     "metadata": {},
     "output_type": "execute_result"
    }
   ],
   "source": [
    "s1.endswith(\"s\")"
   ]
  },
  {
   "cell_type": "code",
   "execution_count": 79,
   "id": "f8838ceb-b774-48e8-acea-cbd57a14ad26",
   "metadata": {},
   "outputs": [
    {
     "data": {
      "text/plain": [
       "False"
      ]
     },
     "execution_count": 79,
     "metadata": {},
     "output_type": "execute_result"
    }
   ],
   "source": [
    "s1.endswith(\"g\")"
   ]
  },
  {
   "cell_type": "code",
   "execution_count": 80,
   "id": "58be56ad-1d09-43a7-a2b1-1602278f212f",
   "metadata": {},
   "outputs": [
    {
     "data": {
      "text/plain": [
       "'this is my string class'"
      ]
     },
     "execution_count": 80,
     "metadata": {},
     "output_type": "execute_result"
    }
   ],
   "source": [
    "s1.format(\"s\")"
   ]
  },
  {
   "cell_type": "code",
   "execution_count": 86,
   "id": "4ae8806d-c0d5-4da9-aeb4-5998c8dbaa87",
   "metadata": {},
   "outputs": [
    {
     "data": {
      "text/plain": [
       "'this is my string class'"
      ]
     },
     "execution_count": 86,
     "metadata": {},
     "output_type": "execute_result"
    }
   ],
   "source": [
    "s1.translate(\"s1\")"
   ]
  },
  {
   "cell_type": "code",
   "execution_count": 96,
   "id": "b53de7f3-9c1d-4081-8547-55334072aa16",
   "metadata": {},
   "outputs": [
    {
     "data": {
      "text/plain": [
       "'THIS IS MY STRING CLASS'"
      ]
     },
     "execution_count": 96,
     "metadata": {},
     "output_type": "execute_result"
    }
   ],
   "source": [
    "s1.upper()"
   ]
  },
  {
   "cell_type": "code",
   "execution_count": 97,
   "id": "700dafb7-87fe-4033-8d6c-67d2caf7f896",
   "metadata": {},
   "outputs": [
    {
     "data": {
      "text/plain": [
       "'This Is My String Class'"
      ]
     },
     "execution_count": 97,
     "metadata": {},
     "output_type": "execute_result"
    }
   ],
   "source": [
    "s1.title()"
   ]
  },
  {
   "cell_type": "code",
   "execution_count": 98,
   "id": "8bc5b675-1a6a-4799-9dea-526a7460903c",
   "metadata": {},
   "outputs": [
    {
     "data": {
      "text/plain": [
       "'This is my string class'"
      ]
     },
     "execution_count": 98,
     "metadata": {},
     "output_type": "execute_result"
    }
   ],
   "source": [
    "s1.capitalize()"
   ]
  },
  {
   "cell_type": "code",
   "execution_count": 99,
   "id": "95593fcc-e9e9-4b06-b85b-a588009ebbd1",
   "metadata": {},
   "outputs": [
    {
     "data": {
      "text/plain": [
       "'sarthak'"
      ]
     },
     "execution_count": 99,
     "metadata": {},
     "output_type": "execute_result"
    }
   ],
   "source": [
    "s"
   ]
  },
  {
   "cell_type": "code",
   "execution_count": 100,
   "id": "e5eb8ae4-3a67-41fb-a1b8-370d3a2a948a",
   "metadata": {},
   "outputs": [
    {
     "ename": "TypeError",
     "evalue": "can only concatenate str (not \"int\") to str",
     "output_type": "error",
     "traceback": [
      "\u001b[0;31m---------------------------------------------------------------------------\u001b[0m",
      "\u001b[0;31mTypeError\u001b[0m                                 Traceback (most recent call last)",
      "Cell \u001b[0;32mIn[100], line 1\u001b[0m\n\u001b[0;32m----> 1\u001b[0m \u001b[43ms\u001b[49m\u001b[38;5;241;43m+\u001b[39;49m\u001b[38;5;241;43m1\u001b[39;49m\n",
      "\u001b[0;31mTypeError\u001b[0m: can only concatenate str (not \"int\") to str"
     ]
    }
   ],
   "source": [
    "s+1"
   ]
  },
  {
   "cell_type": "code",
   "execution_count": 105,
   "id": "b5229c82-dafe-418a-b00f-301254bf7650",
   "metadata": {},
   "outputs": [
    {
     "data": {
      "text/plain": [
       "'sarthak sar '"
      ]
     },
     "execution_count": 105,
     "metadata": {},
     "output_type": "execute_result"
    }
   ],
   "source": [
    "s + \" sar \""
   ]
  },
  {
   "cell_type": "code",
   "execution_count": 106,
   "id": "fbc8370d-5179-4a2f-baf9-8cee2b7f6954",
   "metadata": {},
   "outputs": [
    {
     "data": {
      "text/plain": [
       "'sarthak1'"
      ]
     },
     "execution_count": 106,
     "metadata": {},
     "output_type": "execute_result"
    }
   ],
   "source": [
    "s + '1' #we perfom here typecasting  in above case we dont do type cassting"
   ]
  },
  {
   "cell_type": "code",
   "execution_count": 107,
   "id": "95ae602c-7be5-4e71-8cd4-2464014ac42c",
   "metadata": {},
   "outputs": [
    {
     "data": {
      "text/plain": [
       "'sarthak1'"
      ]
     },
     "execution_count": 107,
     "metadata": {},
     "output_type": "execute_result"
    }
   ],
   "source": [
    "s+ str(1) #typecasting"
   ]
  },
  {
   "cell_type": "code",
   "execution_count": 108,
   "id": "e03e0ee6-133b-42a2-b0bd-07035bea16dc",
   "metadata": {},
   "outputs": [
    {
     "data": {
      "text/plain": [
       "'sarthaksarthaksarthak'"
      ]
     },
     "execution_count": 108,
     "metadata": {},
     "output_type": "execute_result"
    }
   ],
   "source": [
    "s*3"
   ]
  },
  {
   "cell_type": "code",
   "execution_count": 3,
   "id": "405d4121-bc16-4344-bdcc-5d5ef9ea5022",
   "metadata": {},
   "outputs": [
    {
     "data": {
      "text/plain": [
       "'sudhsudhsudhsudh'"
      ]
     },
     "execution_count": 3,
     "metadata": {},
     "output_type": "execute_result"
    }
   ],
   "source": [
    "'sudh'*4"
   ]
  },
  {
   "cell_type": "code",
   "execution_count": 4,
   "id": "2852fbd6-4768-4cce-8323-cbb26c0af384",
   "metadata": {},
   "outputs": [
    {
     "ename": "TypeError",
     "evalue": "unsupported operand type(s) for /: 'str' and 'int'",
     "output_type": "error",
     "traceback": [
      "\u001b[0;31m---------------------------------------------------------------------------\u001b[0m",
      "\u001b[0;31mTypeError\u001b[0m                                 Traceback (most recent call last)",
      "Cell \u001b[0;32mIn[4], line 1\u001b[0m\n\u001b[0;32m----> 1\u001b[0m \u001b[38;5;124;43m'\u001b[39;49m\u001b[38;5;124;43msudh\u001b[39;49m\u001b[38;5;124;43m'\u001b[39;49m\u001b[38;5;241;43m/\u001b[39;49m\u001b[38;5;241;43m5\u001b[39;49m\n",
      "\u001b[0;31mTypeError\u001b[0m: unsupported operand type(s) for /: 'str' and 'int'"
     ]
    }
   ],
   "source": [
    "'sudh'/5"
   ]
  },
  {
   "cell_type": "code",
   "execution_count": 5,
   "id": "ee94eeef-87ef-4190-ba84-e150f6d5b566",
   "metadata": {},
   "outputs": [
    {
     "data": {
      "text/plain": [
       "\"don't do copy ND PASte in my class\""
      ]
     },
     "execution_count": 5,
     "metadata": {},
     "output_type": "execute_result"
    }
   ],
   "source": [
    "\"don't do copy ND PASte in my class\""
   ]
  },
  {
   "cell_type": "code",
   "execution_count": 6,
   "id": "bc6ddac3-b199-44bf-ba17-7ab82fcee019",
   "metadata": {},
   "outputs": [
    {
     "ename": "SyntaxError",
     "evalue": "unterminated string literal (detected at line 1) (3866028649.py, line 1)",
     "output_type": "error",
     "traceback": [
      "\u001b[0;36m  Cell \u001b[0;32mIn[6], line 1\u001b[0;36m\u001b[0m\n\u001b[0;31m    'don't do copy and paste in my class'\u001b[0m\n\u001b[0m                                        ^\u001b[0m\n\u001b[0;31mSyntaxError\u001b[0m\u001b[0;31m:\u001b[0m unterminated string literal (detected at line 1)\n"
     ]
    }
   ],
   "source": [
    "'don't do copy and paste in my class'\n",
    "# In this case sysytem is confused to find  ending  of single qoute .if this haoppen do above string"
   ]
  },
  {
   "cell_type": "code",
   "execution_count": 7,
   "id": "5d7294a5-f20c-4f96-a39a-0bb385c96415",
   "metadata": {},
   "outputs": [
    {
     "ename": "SyntaxError",
     "evalue": "invalid syntax (3359804732.py, line 1)",
     "output_type": "error",
     "traceback": [
      "\u001b[0;36m  Cell \u001b[0;32mIn[7], line 1\u001b[0;36m\u001b[0m\n\u001b[0;31m    This is my first class\u001b[0m\n\u001b[0m               ^\u001b[0m\n\u001b[0;31mSyntaxError\u001b[0m\u001b[0;31m:\u001b[0m invalid syntax\n"
     ]
    }
   ],
   "source": [
    "This is my first class"
   ]
  },
  {
   "cell_type": "code",
   "execution_count": 2,
   "id": "5949bf3f-eb7a-4e89-8f53-92bd7121084c",
   "metadata": {},
   "outputs": [
    {
     "ename": "SyntaxError",
     "evalue": "invalid syntax (3359804732.py, line 1)",
     "output_type": "error",
     "traceback": [
      "\u001b[0;36m  Cell \u001b[0;32mIn[2], line 1\u001b[0;36m\u001b[0m\n\u001b[0;31m    This is my first class\u001b[0m\n\u001b[0m               ^\u001b[0m\n\u001b[0;31mSyntaxError\u001b[0m\u001b[0;31m:\u001b[0m invalid syntax\n"
     ]
    }
   ],
   "source": [
    "This is my first class"
   ]
  },
  {
   "cell_type": "code",
   "execution_count": 3,
   "id": "445af915-35af-4d25-a65e-8a2738d1ce33",
   "metadata": {},
   "outputs": [
    {
     "ename": "SyntaxError",
     "evalue": "invalid syntax (2708322060.py, line 1)",
     "output_type": "error",
     "traceback": [
      "\u001b[0;36m  Cell \u001b[0;32mIn[3], line 1\u001b[0;36m\u001b[0m\n\u001b[0;31m    This is my first classThis is my first classThis is my first classThis is my first classThis is my first classThis is my first classThis is my first classThis is my first classThis is my first classThis is my first class\u001b[0m\n\u001b[0m               ^\u001b[0m\n\u001b[0;31mSyntaxError\u001b[0m\u001b[0;31m:\u001b[0m invalid syntax\n"
     ]
    }
   ],
   "source": [
    "This is my first classThis is my first classThis is my first classThis is my first classThis is my first classThis is my first classThis is my first classThis is my first classThis is my first classThis is my first class"
   ]
  },
  {
   "cell_type": "code",
   "execution_count": 4,
   "id": "df589380-e63b-4331-acad-6dd6dab33a19",
   "metadata": {},
   "outputs": [
    {
     "ename": "SyntaxError",
     "evalue": "invalid syntax (615824340.py, line 1)",
     "output_type": "error",
     "traceback": [
      "\u001b[0;36m  Cell \u001b[0;32mIn[4], line 1\u001b[0;36m\u001b[0m\n\u001b[0;31m    This is my cladd\u001b[0m\n\u001b[0m               ^\u001b[0m\n\u001b[0;31mSyntaxError\u001b[0m\u001b[0;31m:\u001b[0m invalid syntax\n"
     ]
    }
   ],
   "source": [
    "#This is my cladd\n",
    "# adsdsdfdfdf\n",
    "# sadsds\n",
    "# adsad\n",
    "# sadsa\n",
    "# sdaasds\n",
    "# asddasd"
   ]
  },
  {
   "cell_type": "code",
   "execution_count": null,
   "id": "9026acc7-a9ff-4032-988e-df36f0e23034",
   "metadata": {},
   "outputs": [],
   "source": [
    "# asdsd\n",
    "# sadsa\n",
    "# das\n",
    "# dsds\n",
    "# ad"
   ]
  }
 ],
 "metadata": {
  "kernelspec": {
   "display_name": "Python 3 (ipykernel)",
   "language": "python",
   "name": "python3"
  },
  "language_info": {
   "codemirror_mode": {
    "name": "ipython",
    "version": 3
   },
   "file_extension": ".py",
   "mimetype": "text/x-python",
   "name": "python",
   "nbconvert_exporter": "python",
   "pygments_lexer": "ipython3",
   "version": "3.10.8"
  }
 },
 "nbformat": 4,
 "nbformat_minor": 5
}
