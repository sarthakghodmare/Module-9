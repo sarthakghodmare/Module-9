{
 "cells": [
  {
   "cell_type": "code",
   "execution_count": 1,
   "id": "3eb4e053-c07f-4eed-bbb7-7a18f4c6af82",
   "metadata": {},
   "outputs": [],
   "source": [
    "a=10"
   ]
  },
  {
   "cell_type": "code",
   "execution_count": 4,
   "id": "6db25e6e-4e6e-41e7-a947-6c412b51b069",
   "metadata": {},
   "outputs": [],
   "source": [
    "if a >10:\n",
    "    print(\"yes a is greater than 10\")"
   ]
  },
  {
   "cell_type": "code",
   "execution_count": null,
   "id": "de1c25d5-efaa-4afc-88e8-c2270b66c3e0",
   "metadata": {},
   "outputs": [],
   "source": [
    "a=10"
   ]
  },
  {
   "cell_type": "code",
   "execution_count": 6,
   "id": "7c45f0d8-dbab-4a4c-92f9-7e98048d06c8",
   "metadata": {},
   "outputs": [
    {
     "name": "stdout",
     "output_type": "stream",
     "text": [
      "yes a is greater than 10\n"
     ]
    }
   ],
   "source": [
    "if a >=10:\n",
    "    print(\"yes a is greater than 10\")"
   ]
  },
  {
   "cell_type": "code",
   "execution_count": 8,
   "id": "f981fa9b-8ef5-4d04-9e2a-1d4077e38262",
   "metadata": {},
   "outputs": [
    {
     "name": "stdout",
     "output_type": "stream",
     "text": [
      "yes b is lesser than 40\n"
     ]
    }
   ],
   "source": [
    "b=20\n",
    "if b>=30:\n",
    "    print(\"yes b is greater then 30\")\n",
    "elif b<=40:\n",
    "    print(\"yes b is lesser than 40\")\n",
    "else:\n",
    "    print(\"default\")"
   ]
  },
  {
   "cell_type": "code",
   "execution_count": 1,
   "id": "10c52ded-4d15-43b1-bc2c-3ba4aa008903",
   "metadata": {},
   "outputs": [
    {
     "name": "stdout",
     "output_type": "stream",
     "text": [
      "default\n"
     ]
    }
   ],
   "source": [
    "b=20\n",
    "if b>=30:\n",
    "    print(\"yes b is greater then 30\")\n",
    "elif b>=40:\n",
    "    print(\"yes b is lesser than 40\")\n",
    "else:\n",
    "    print(\"default\")"
   ]
  },
  {
   "cell_type": "code",
   "execution_count": null,
   "id": "891dc523-d6bd-41ba-bf4b-00b9758da8aa",
   "metadata": {},
   "outputs": [],
   "source": [
    "input() #problem in input it convert data in string"
   ]
  },
  {
   "cell_type": "code",
   "execution_count": null,
   "id": "0e101dfa-3359-4987-94fa-ed9dee8f554d",
   "metadata": {},
   "outputs": [],
   "source": [
    "\n"
   ]
  },
  {
   "cell_type": "code",
   "execution_count": null,
   "id": "01b9573c-c8a6-4be9-a9e8-da76246eb46f",
   "metadata": {},
   "outputs": [],
   "source": []
  }
 ],
 "metadata": {
  "kernelspec": {
   "display_name": "Python 3 (ipykernel)",
   "language": "python",
   "name": "python3"
  },
  "language_info": {
   "codemirror_mode": {
    "name": "ipython",
    "version": 3
   },
   "file_extension": ".py",
   "mimetype": "text/x-python",
   "name": "python",
   "nbconvert_exporter": "python",
   "pygments_lexer": "ipython3",
   "version": "3.10.8"
  }
 },
 "nbformat": 4,
 "nbformat_minor": 5
}
