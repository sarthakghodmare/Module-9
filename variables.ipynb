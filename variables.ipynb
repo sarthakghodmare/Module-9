{
 "cells": [
  {
   "cell_type": "code",
   "execution_count": 1,
   "id": "38570a1d-156d-4364-a901-7801ee45134d",
   "metadata": {},
   "outputs": [
    {
     "data": {
      "text/plain": [
       "int"
      ]
     },
     "execution_count": 1,
     "metadata": {},
     "output_type": "execute_result"
    }
   ],
   "source": [
    "a=1\n",
    "\n",
    "type(a)\n",
    "\n",
    "\n"
   ]
  },
  {
   "cell_type": "code",
   "execution_count": 12,
   "id": "a334a5b3-03a4-48ce-9efe-cced58924c08",
   "metadata": {},
   "outputs": [],
   "source": [
    "b=\"sarthak\""
   ]
  },
  {
   "cell_type": "code",
   "execution_count": 13,
   "id": "1fe80bfe-a2d9-4908-9c31-3d980a28d7b8",
   "metadata": {},
   "outputs": [
    {
     "data": {
      "text/plain": [
       "str"
      ]
     },
     "execution_count": 13,
     "metadata": {},
     "output_type": "execute_result"
    }
   ],
   "source": [
    "type(b)\n"
   ]
  },
  {
   "cell_type": "code",
   "execution_count": 14,
   "id": "bcc9453e-89bc-4787-b368-ddc68f1806ab",
   "metadata": {},
   "outputs": [],
   "source": [
    "c='sar'"
   ]
  },
  {
   "cell_type": "code",
   "execution_count": 15,
   "id": "93b0bc21-b1f4-4281-98ae-9c637a43efcf",
   "metadata": {},
   "outputs": [
    {
     "data": {
      "text/plain": [
       "str"
      ]
     },
     "execution_count": 15,
     "metadata": {},
     "output_type": "execute_result"
    }
   ],
   "source": [
    "type(c)"
   ]
  },
  {
   "cell_type": "code",
   "execution_count": 16,
   "id": "832a007e-c972-4e82-8f2e-258fdd314eac",
   "metadata": {},
   "outputs": [],
   "source": [
    "e=145.5"
   ]
  },
  {
   "cell_type": "code",
   "execution_count": 17,
   "id": "dc302fcd-55a9-492b-b80a-6c43d000bd82",
   "metadata": {},
   "outputs": [
    {
     "data": {
      "text/plain": [
       "str"
      ]
     },
     "execution_count": 17,
     "metadata": {},
     "output_type": "execute_result"
    }
   ],
   "source": [
    "type(c)\n"
   ]
  },
  {
   "cell_type": "code",
   "execution_count": 18,
   "id": "59731a4d-cd26-4726-a625-122696057e1f",
   "metadata": {},
   "outputs": [
    {
     "data": {
      "text/plain": [
       "float"
      ]
     },
     "execution_count": 18,
     "metadata": {},
     "output_type": "execute_result"
    }
   ],
   "source": [
    "type(e)"
   ]
  },
  {
   "cell_type": "code",
   "execution_count": 19,
   "id": "30090518-c63f-473e-ac86-c1ab2b18f4de",
   "metadata": {},
   "outputs": [],
   "source": [
    "sarthak = 222"
   ]
  },
  {
   "cell_type": "code",
   "execution_count": 21,
   "id": "03b1e194-fca8-4534-b674-5dd0c47f7ec3",
   "metadata": {},
   "outputs": [
    {
     "data": {
      "text/plain": [
       "int"
      ]
     },
     "execution_count": 21,
     "metadata": {},
     "output_type": "execute_result"
    }
   ],
   "source": [
    "type(sarthak)"
   ]
  },
  {
   "cell_type": "code",
   "execution_count": 22,
   "id": "58c0cb16-3f20-45e7-86ec-844b3b17088c",
   "metadata": {},
   "outputs": [],
   "source": [
    "d=True"
   ]
  },
  {
   "cell_type": "code",
   "execution_count": 23,
   "id": "53e87f83-3e0e-4d1a-bb1e-08d29255e1b8",
   "metadata": {},
   "outputs": [
    {
     "data": {
      "text/plain": [
       "bool"
      ]
     },
     "execution_count": 23,
     "metadata": {},
     "output_type": "execute_result"
    }
   ],
   "source": [
    "type(d)"
   ]
  },
  {
   "cell_type": "code",
   "execution_count": 24,
   "id": "8dd39ff4-ff86-4eaa-b2f3-af13541c5e7e",
   "metadata": {},
   "outputs": [],
   "source": [
    "e=False"
   ]
  },
  {
   "cell_type": "code",
   "execution_count": 25,
   "id": "da473e20-413f-46b9-90e4-fc0dfb3dfdf4",
   "metadata": {},
   "outputs": [
    {
     "data": {
      "text/plain": [
       "bool"
      ]
     },
     "execution_count": 25,
     "metadata": {},
     "output_type": "execute_result"
    }
   ],
   "source": [
    "type(e)\n"
   ]
  },
  {
   "cell_type": "code",
   "execution_count": 26,
   "id": "c5447bd8-cec0-480e-ac7c-1df8b9a46eaf",
   "metadata": {},
   "outputs": [
    {
     "data": {
      "text/plain": [
       "1"
      ]
     },
     "execution_count": 26,
     "metadata": {},
     "output_type": "execute_result"
    }
   ],
   "source": [
    "True-False"
   ]
  },
  {
   "cell_type": "code",
   "execution_count": 27,
   "id": "5070fe06-5f6d-4930-9cd9-bce06adde48b",
   "metadata": {},
   "outputs": [
    {
     "data": {
      "text/plain": [
       "-1"
      ]
     },
     "execution_count": 27,
     "metadata": {},
     "output_type": "execute_result"
    }
   ],
   "source": [
    "False-True\n",
    "\n"
   ]
  },
  {
   "cell_type": "code",
   "execution_count": 28,
   "id": "eb726163-d38d-45eb-8a93-2b1b5084e01c",
   "metadata": {},
   "outputs": [
    {
     "data": {
      "text/plain": [
       "0"
      ]
     },
     "execution_count": 28,
     "metadata": {},
     "output_type": "execute_result"
    }
   ],
   "source": [
    "True*False\n"
   ]
  },
  {
   "cell_type": "code",
   "execution_count": 29,
   "id": "f96f7044-ffec-4135-8e4b-5a8cfee5b2f1",
   "metadata": {},
   "outputs": [
    {
     "ename": "ZeroDivisionError",
     "evalue": "division by zero",
     "output_type": "error",
     "traceback": [
      "\u001b[0;31m---------------------------------------------------------------------------\u001b[0m",
      "\u001b[0;31mZeroDivisionError\u001b[0m                         Traceback (most recent call last)",
      "Cell \u001b[0;32mIn[29], line 1\u001b[0m\n\u001b[0;32m----> 1\u001b[0m \u001b[38;5;28;43;01mTrue\u001b[39;49;00m\u001b[38;5;241;43m/\u001b[39;49m\u001b[38;5;28;43;01mFalse\u001b[39;49;00m\n",
      "\u001b[0;31mZeroDivisionError\u001b[0m: division by zero"
     ]
    }
   ],
   "source": [
    "True/False"
   ]
  },
  {
   "cell_type": "code",
   "execution_count": 30,
   "id": "90be109b-420d-43b0-af1b-576ef7757c96",
   "metadata": {},
   "outputs": [],
   "source": [
    "f = 5+ 4j"
   ]
  },
  {
   "cell_type": "code",
   "execution_count": 31,
   "id": "bce728cd-280b-4229-92db-627844efbf28",
   "metadata": {},
   "outputs": [
    {
     "data": {
      "text/plain": [
       "complex"
      ]
     },
     "execution_count": 31,
     "metadata": {},
     "output_type": "execute_result"
    }
   ],
   "source": [
    "type(f)\n"
   ]
  },
  {
   "cell_type": "code",
   "execution_count": 32,
   "id": "7ce20913-6434-4eac-b9c4-06e02772649d",
   "metadata": {},
   "outputs": [
    {
     "ename": "SyntaxError",
     "evalue": "invalid decimal literal (267073897.py, line 1)",
     "output_type": "error",
     "traceback": [
      "\u001b[0;36m  Cell \u001b[0;32mIn[32], line 1\u001b[0;36m\u001b[0m\n\u001b[0;31m    e = 3+4i\u001b[0m\n\u001b[0m          ^\u001b[0m\n\u001b[0;31mSyntaxError\u001b[0m\u001b[0;31m:\u001b[0m invalid decimal literal\n"
     ]
    }
   ],
   "source": [
    " e = 3+4i"
   ]
  },
  {
   "cell_type": "code",
   "execution_count": 34,
   "id": "bd52c8fb-70bb-4973-b7ef-143099b9101e",
   "metadata": {},
   "outputs": [],
   "source": [
    "g=6j"
   ]
  },
  {
   "cell_type": "code",
   "execution_count": 35,
   "id": "d50e29ea-6ff7-4e0d-9b59-84024a5a442c",
   "metadata": {},
   "outputs": [
    {
     "data": {
      "text/plain": [
       "complex"
      ]
     },
     "execution_count": 35,
     "metadata": {},
     "output_type": "execute_result"
    }
   ],
   "source": [
    "type(g)"
   ]
  },
  {
   "cell_type": "code",
   "execution_count": 36,
   "id": "73fa4e7c-1282-4f0e-a9c6-2b40c82805dc",
   "metadata": {},
   "outputs": [
    {
     "ename": "SyntaxError",
     "evalue": "cannot assign to literal here. Maybe you meant '==' instead of '='? (473300113.py, line 1)",
     "output_type": "error",
     "traceback": [
      "\u001b[0;36m  Cell \u001b[0;32mIn[36], line 1\u001b[0;36m\u001b[0m\n\u001b[0;31m    55=8\u001b[0m\n\u001b[0m    ^\u001b[0m\n\u001b[0;31mSyntaxError\u001b[0m\u001b[0;31m:\u001b[0m cannot assign to literal here. Maybe you meant '==' instead of '='?\n"
     ]
    }
   ],
   "source": [
    "55=8 #variable name must not be numeric"
   ]
  },
  {
   "cell_type": "code",
   "execution_count": 37,
   "id": "89ba094a-ba2c-4bd2-8b98-875e20a99341",
   "metadata": {},
   "outputs": [
    {
     "ename": "SyntaxError",
     "evalue": "invalid decimal literal (113570955.py, line 1)",
     "output_type": "error",
     "traceback": [
      "\u001b[0;36m  Cell \u001b[0;32mIn[37], line 1\u001b[0;36m\u001b[0m\n\u001b[0;31m    45gh =456\u001b[0m\n\u001b[0m     ^\u001b[0m\n\u001b[0;31mSyntaxError\u001b[0m\u001b[0;31m:\u001b[0m invalid decimal literal\n"
     ]
    }
   ],
   "source": [
    "45gh =456 #alphanumeric"
   ]
  },
  {
   "cell_type": "code",
   "execution_count": 38,
   "id": "9cc8feee-63b0-417c-9469-21ca7a7822f2",
   "metadata": {},
   "outputs": [],
   "source": [
    "#45=98"
   ]
  },
  {
   "cell_type": "code",
   "execution_count": 39,
   "id": "42396b56-c516-4834-a2af-4682b72deea5",
   "metadata": {},
   "outputs": [
    {
     "ename": "SyntaxError",
     "evalue": "invalid syntax (3990295557.py, line 1)",
     "output_type": "error",
     "traceback": [
      "\u001b[0;36m  Cell \u001b[0;32mIn[39], line 1\u001b[0;36m\u001b[0m\n\u001b[0;31m    $54=32\u001b[0m\n\u001b[0m    ^\u001b[0m\n\u001b[0;31mSyntaxError\u001b[0m\u001b[0;31m:\u001b[0m invalid syntax\n"
     ]
    }
   ],
   "source": [
    "$54=32 #no special charater use in variable"
   ]
  },
  {
   "cell_type": "code",
   "execution_count": 40,
   "id": "7f7c25d1-2ec2-4a6c-9d63-48e3e2c1766a",
   "metadata": {},
   "outputs": [
    {
     "name": "stderr",
     "output_type": "stream",
     "text": [
      "UsageError: Line magic function `%42=5` not found.\n"
     ]
    }
   ],
   "source": [
    "%42=5"
   ]
  },
  {
   "cell_type": "code",
   "execution_count": 41,
   "id": "aa2e18f9-fff1-4813-abfb-32b29b01529c",
   "metadata": {},
   "outputs": [],
   "source": [
    "_21=5"
   ]
  },
  {
   "cell_type": "code",
   "execution_count": 42,
   "id": "9949e900-357e-442e-81f3-b18d9ca4e58d",
   "metadata": {},
   "outputs": [
    {
     "data": {
      "text/plain": [
       "5"
      ]
     },
     "execution_count": 42,
     "metadata": {},
     "output_type": "execute_result"
    }
   ],
   "source": [
    "_21 #only underscore use"
   ]
  },
  {
   "cell_type": "code",
   "execution_count": 43,
   "id": "76459080-4b3a-4bfb-85a7-915847536c54",
   "metadata": {},
   "outputs": [
    {
     "data": {
      "text/plain": [
       "False"
      ]
     },
     "execution_count": 43,
     "metadata": {},
     "output_type": "execute_result"
    }
   ],
   "source": [
    "e"
   ]
  },
  {
   "cell_type": "code",
   "execution_count": 44,
   "id": "67cae18e-3c31-4268-a9be-c3a927079794",
   "metadata": {},
   "outputs": [],
   "source": [
    "r=4+5j"
   ]
  },
  {
   "cell_type": "code",
   "execution_count": null,
   "id": "d402ef95-a41a-4b0d-ad98-e2c8c8e9b799",
   "metadata": {},
   "outputs": [
    {
     "data": {
      "text/plain": [
       "(4+5j)"
      ]
     },
     "execution_count": 45,
     "metadata": {},
     "output_type": "execute_result"
    }
   ],
   "source": [
    "r"
   ]
  }
 ],
 "metadata": {
  "kernelspec": {
   "display_name": "Python 3 (ipykernel)",
   "language": "python",
   "name": "python3"
  },
  "language_info": {
   "codemirror_mode": {
    "name": "ipython",
    "version": 3
   },
   "file_extension": ".py",
   "mimetype": "text/x-python",
   "name": "python",
   "nbconvert_exporter": "python",
   "pygments_lexer": "ipython3",
   "version": "3.10.8"
  }
 },
 "nbformat": 4,
 "nbformat_minor": 5
}
