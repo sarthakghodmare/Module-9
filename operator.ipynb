{
 "cells": [
  {
   "cell_type": "code",
   "execution_count": 1,
   "id": "6fd07b61-760e-485f-9997-b2ea23710d50",
   "metadata": {},
   "outputs": [
    {
     "data": {
      "text/plain": [
       "3"
      ]
     },
     "execution_count": 1,
     "metadata": {},
     "output_type": "execute_result"
    }
   ],
   "source": [
    "1+2 #arithemaric operator"
   ]
  },
  {
   "cell_type": "code",
   "execution_count": 2,
   "id": "63fff193-13bf-435a-807b-717d10079748",
   "metadata": {},
   "outputs": [
    {
     "data": {
      "text/plain": [
       "-4"
      ]
     },
     "execution_count": 2,
     "metadata": {},
     "output_type": "execute_result"
    }
   ],
   "source": [
    "1-5 #substraction operator"
   ]
  },
  {
   "cell_type": "code",
   "execution_count": 3,
   "id": "5cf4726f-3882-45a4-b236-0571eb819c60",
   "metadata": {},
   "outputs": [
    {
     "data": {
      "text/plain": [
       "25"
      ]
     },
     "execution_count": 3,
     "metadata": {},
     "output_type": "execute_result"
    }
   ],
   "source": [
    "5*5#multipication operator"
   ]
  },
  {
   "cell_type": "code",
   "execution_count": 4,
   "id": "8724dbf1-e37e-4c13-9ec6-993df3832fba",
   "metadata": {},
   "outputs": [
    {
     "data": {
      "text/plain": [
       "0.1111111111111111"
      ]
     },
     "execution_count": 4,
     "metadata": {},
     "output_type": "execute_result"
    }
   ],
   "source": [
    "1/9 #divison operator"
   ]
  },
  {
   "cell_type": "code",
   "execution_count": 5,
   "id": "e9052d1c-fe64-493b-9576-91c179f3bc1b",
   "metadata": {},
   "outputs": [
    {
     "data": {
      "text/plain": [
       "1"
      ]
     },
     "execution_count": 5,
     "metadata": {},
     "output_type": "execute_result"
    }
   ],
   "source": [
    "1%4 #modules operator gives reminder"
   ]
  },
  {
   "cell_type": "code",
   "execution_count": 6,
   "id": "56e169ff-564f-46fa-a854-89608e5b1694",
   "metadata": {},
   "outputs": [
    {
     "data": {
      "text/plain": [
       "1"
      ]
     },
     "execution_count": 6,
     "metadata": {},
     "output_type": "execute_result"
    }
   ],
   "source": [
    "5//4 #divison floor"
   ]
  },
  {
   "cell_type": "code",
   "execution_count": 7,
   "id": "63151d23-a074-4759-86ee-ed4ec735ed4f",
   "metadata": {},
   "outputs": [
    {
     "data": {
      "text/plain": [
       "256"
      ]
     },
     "execution_count": 7,
     "metadata": {},
     "output_type": "execute_result"
    }
   ],
   "source": [
    "2**8#power operater #arithmetic opraetor"
   ]
  },
  {
   "cell_type": "code",
   "execution_count": 8,
   "id": "5f5de298-eab2-436f-ba69-3564b77b2fc1",
   "metadata": {},
   "outputs": [
    {
     "data": {
      "text/plain": [
       "False"
      ]
     },
     "execution_count": 8,
     "metadata": {},
     "output_type": "execute_result"
    }
   ],
   "source": [
    "1>5#comprator operator"
   ]
  },
  {
   "cell_type": "code",
   "execution_count": 9,
   "id": "63a05a42-7248-4b82-8da8-2a9fa07714eb",
   "metadata": {},
   "outputs": [
    {
     "data": {
      "text/plain": [
       "True"
      ]
     },
     "execution_count": 9,
     "metadata": {},
     "output_type": "execute_result"
    }
   ],
   "source": [
    "1<5"
   ]
  },
  {
   "cell_type": "code",
   "execution_count": 10,
   "id": "ccf4c0a0-79bd-452b-adf1-d41524176d4c",
   "metadata": {},
   "outputs": [
    {
     "data": {
      "text/plain": [
       "False"
      ]
     },
     "execution_count": 10,
     "metadata": {},
     "output_type": "execute_result"
    }
   ],
   "source": [
    "1==2"
   ]
  },
  {
   "cell_type": "code",
   "execution_count": 11,
   "id": "30fc4c2e-388c-4632-ad29-0cf7f97d2429",
   "metadata": {},
   "outputs": [
    {
     "data": {
      "text/plain": [
       "True"
      ]
     },
     "execution_count": 11,
     "metadata": {},
     "output_type": "execute_result"
    }
   ],
   "source": [
    "1==1\n"
   ]
  },
  {
   "cell_type": "code",
   "execution_count": 12,
   "id": "8351d0ca-197c-4ab3-b8cf-da3c3cf7bb3a",
   "metadata": {},
   "outputs": [
    {
     "data": {
      "text/plain": [
       "True"
      ]
     },
     "execution_count": 12,
     "metadata": {},
     "output_type": "execute_result"
    }
   ],
   "source": [
    "1 != 2"
   ]
  },
  {
   "cell_type": "code",
   "execution_count": 13,
   "id": "f4f2d4db-2b61-4b83-bb91-917c00a29bc0",
   "metadata": {},
   "outputs": [
    {
     "data": {
      "text/plain": [
       "False"
      ]
     },
     "execution_count": 13,
     "metadata": {},
     "output_type": "execute_result"
    }
   ],
   "source": [
    "1 !=1\n"
   ]
  },
  {
   "cell_type": "code",
   "execution_count": 1,
   "id": "0a969131-6875-410e-8ee5-5380a142f1ef",
   "metadata": {},
   "outputs": [
    {
     "data": {
      "text/plain": [
       "4"
      ]
     },
     "execution_count": 1,
     "metadata": {},
     "output_type": "execute_result"
    }
   ],
   "source": [
    "2**2"
   ]
  },
  {
   "cell_type": "code",
   "execution_count": 2,
   "id": "46afb780-b2e2-40e9-a28b-6570418d54d3",
   "metadata": {},
   "outputs": [
    {
     "data": {
      "text/plain": [
       "True"
      ]
     },
     "execution_count": 2,
     "metadata": {},
     "output_type": "execute_result"
    }
   ],
   "source": [
    "2>=1 #first greater than perform that why true"
   ]
  },
  {
   "cell_type": "code",
   "execution_count": 3,
   "id": "53130c11-271f-4019-9f2d-b67e61e4dc48",
   "metadata": {},
   "outputs": [
    {
     "data": {
      "text/plain": [
       "True"
      ]
     },
     "execution_count": 3,
     "metadata": {},
     "output_type": "execute_result"
    }
   ],
   "source": [
    "2>=2"
   ]
  },
  {
   "cell_type": "code",
   "execution_count": 4,
   "id": "9feab1e4-b137-4d34-8cb3-064d352713ab",
   "metadata": {},
   "outputs": [
    {
     "data": {
      "text/plain": [
       "False"
      ]
     },
     "execution_count": 4,
     "metadata": {},
     "output_type": "execute_result"
    }
   ],
   "source": [
    "2<2"
   ]
  },
  {
   "cell_type": "code",
   "execution_count": null,
   "id": "05265453-bbe5-4bd9-8e4b-97e3eeb4c796",
   "metadata": {},
   "outputs": [],
   "source": [
    "2<=2 #comparator operator"
   ]
  },
  {
   "cell_type": "code",
   "execution_count": null,
   "id": "e7756298-1059-44ba-9412-010b37077bf3",
   "metadata": {},
   "outputs": [],
   "source": [
    "True and True #and is logical operator"
   ]
  },
  {
   "cell_type": "code",
   "execution_count": 5,
   "id": "6b763b19-47bc-4211-ab5f-b5894df68874",
   "metadata": {},
   "outputs": [
    {
     "data": {
      "text/plain": [
       "False"
      ]
     },
     "execution_count": 5,
     "metadata": {},
     "output_type": "execute_result"
    }
   ],
   "source": [
    "True and False"
   ]
  },
  {
   "cell_type": "code",
   "execution_count": 6,
   "id": "4ed4b690-a92c-4e2c-9f7e-37a4dca536eb",
   "metadata": {},
   "outputs": [
    {
     "data": {
      "text/plain": [
       "0"
      ]
     },
     "execution_count": 6,
     "metadata": {},
     "output_type": "execute_result"
    }
   ],
   "source": [
    "0 and 1"
   ]
  },
  {
   "cell_type": "code",
   "execution_count": 7,
   "id": "a66981f4-2dff-480c-9f4f-e1580e3524fe",
   "metadata": {},
   "outputs": [
    {
     "data": {
      "text/plain": [
       "1"
      ]
     },
     "execution_count": 7,
     "metadata": {},
     "output_type": "execute_result"
    }
   ],
   "source": [
    "1 and 1\n"
   ]
  },
  {
   "cell_type": "code",
   "execution_count": 8,
   "id": "20280aaf-c6cc-4ceb-a111-377f7386e328",
   "metadata": {},
   "outputs": [
    {
     "data": {
      "text/plain": [
       "1"
      ]
     },
     "execution_count": 8,
     "metadata": {},
     "output_type": "execute_result"
    }
   ],
   "source": [
    "1  or 0"
   ]
  },
  {
   "cell_type": "code",
   "execution_count": 9,
   "id": "44f172e5-3b48-4ed8-87f7-61e182407131",
   "metadata": {},
   "outputs": [
    {
     "data": {
      "text/plain": [
       "1"
      ]
     },
     "execution_count": 9,
     "metadata": {},
     "output_type": "execute_result"
    }
   ],
   "source": [
    " 1 or 1"
   ]
  },
  {
   "cell_type": "code",
   "execution_count": 11,
   "id": "11939990-533b-4970-891e-c5362c5ad7c8",
   "metadata": {},
   "outputs": [
    {
     "data": {
      "text/plain": [
       "False"
      ]
     },
     "execution_count": 11,
     "metadata": {},
     "output_type": "execute_result"
    }
   ],
   "source": [
    " not True"
   ]
  },
  {
   "cell_type": "code",
   "execution_count": 12,
   "id": "ab253ab8-4197-494e-b89b-82edb7b5befb",
   "metadata": {},
   "outputs": [
    {
     "data": {
      "text/plain": [
       "False"
      ]
     },
     "execution_count": 12,
     "metadata": {},
     "output_type": "execute_result"
    }
   ],
   "source": [
    "not 2#logical oprator"
   ]
  },
  {
   "cell_type": "code",
   "execution_count": 13,
   "id": "3812c272-d1ea-4934-bc6d-a346a5ae2ef4",
   "metadata": {},
   "outputs": [
    {
     "data": {
      "text/plain": [
       "0"
      ]
     },
     "execution_count": 13,
     "metadata": {},
     "output_type": "execute_result"
    }
   ],
   "source": [
    " 10&4#  bitwise opratorconvert data in binary  0 and 1 interannay convert into binary"
   ]
  },
  {
   "cell_type": "code",
   "execution_count": 14,
   "id": "84e9ff2f-d920-4951-99a5-c11dcb471855",
   "metadata": {},
   "outputs": [
    {
     "data": {
      "text/plain": [
       "'0b1010'"
      ]
     },
     "execution_count": 14,
     "metadata": {},
     "output_type": "execute_result"
    }
   ],
   "source": [
    "bin(10)"
   ]
  },
  {
   "cell_type": "code",
   "execution_count": 15,
   "id": "de4d8ca3-619e-4fc6-815a-84ab49dfafd7",
   "metadata": {},
   "outputs": [
    {
     "data": {
      "text/plain": [
       "'0b100'"
      ]
     },
     "execution_count": 15,
     "metadata": {},
     "output_type": "execute_result"
    }
   ],
   "source": [
    "bin(4)\n"
   ]
  },
  {
   "cell_type": "code",
   "execution_count": 16,
   "id": "72df118e-ce6d-4cdc-91f2-aa5e48a8708a",
   "metadata": {},
   "outputs": [
    {
     "data": {
      "text/plain": [
       "20"
      ]
     },
     "execution_count": 16,
     "metadata": {},
     "output_type": "execute_result"
    }
   ],
   "source": [
    "23&20 #anding"
   ]
  },
  {
   "cell_type": "code",
   "execution_count": 17,
   "id": "b29ba809-e045-4ece-8945-e9f0d211ff1d",
   "metadata": {},
   "outputs": [
    {
     "data": {
      "text/plain": [
       "'0b10111'"
      ]
     },
     "execution_count": 17,
     "metadata": {},
     "output_type": "execute_result"
    }
   ],
   "source": [
    "bin(23)"
   ]
  },
  {
   "cell_type": "code",
   "execution_count": 18,
   "id": "8c52e29b-08c6-4315-aa8a-cc9be7aef0bb",
   "metadata": {},
   "outputs": [
    {
     "data": {
      "text/plain": [
       "'0b10100'"
      ]
     },
     "execution_count": 18,
     "metadata": {},
     "output_type": "execute_result"
    }
   ],
   "source": [
    "bin(20)\n"
   ]
  },
  {
   "cell_type": "code",
   "execution_count": 19,
   "id": "d0a36619-a42d-4b2d-87aa-f2fcbaa6f5d1",
   "metadata": {},
   "outputs": [
    {
     "data": {
      "text/plain": [
       "15"
      ]
     },
     "execution_count": 19,
     "metadata": {},
     "output_type": "execute_result"
    }
   ],
   "source": [
    "11 | 6# oring"
   ]
  },
  {
   "cell_type": "code",
   "execution_count": 20,
   "id": "eb98800c-af8c-4235-a1d2-be77de6d8a47",
   "metadata": {},
   "outputs": [
    {
     "data": {
      "text/plain": [
       "'0b1011'"
      ]
     },
     "execution_count": 20,
     "metadata": {},
     "output_type": "execute_result"
    }
   ],
   "source": [
    "bin(11)"
   ]
  },
  {
   "cell_type": "code",
   "execution_count": 21,
   "id": "ed5924ed-41e4-40f3-ae0b-bc48cd2ef4e8",
   "metadata": {},
   "outputs": [
    {
     "data": {
      "text/plain": [
       "'0b110'"
      ]
     },
     "execution_count": 21,
     "metadata": {},
     "output_type": "execute_result"
    }
   ],
   "source": [
    "bin(6)"
   ]
  },
  {
   "cell_type": "code",
   "execution_count": 22,
   "id": "42d47874-3b6d-478f-817e-3830b9fa8630",
   "metadata": {},
   "outputs": [
    {
     "data": {
      "text/plain": [
       "-13"
      ]
     },
     "execution_count": 22,
     "metadata": {},
     "output_type": "execute_result"
    }
   ],
   "source": [
    "~12"
   ]
  },
  {
   "cell_type": "code",
   "execution_count": 23,
   "id": "5747c9f1-024c-4e15-9512-d3fef96b642b",
   "metadata": {},
   "outputs": [
    {
     "data": {
      "text/plain": [
       "'0b1100'"
      ]
     },
     "execution_count": 23,
     "metadata": {},
     "output_type": "execute_result"
    }
   ],
   "source": [
    "bin(12)"
   ]
  },
  {
   "cell_type": "code",
   "execution_count": 24,
   "id": "f43a00ea-766f-478e-a8f7-4880768f0e7f",
   "metadata": {},
   "outputs": [
    {
     "data": {
      "text/plain": [
       "'0b1101'"
      ]
     },
     "execution_count": 24,
     "metadata": {},
     "output_type": "execute_result"
    }
   ],
   "source": [
    "bin(13)"
   ]
  },
  {
   "cell_type": "code",
   "execution_count": 25,
   "id": "5f74ec84-3d96-4583-87bf-13aaa7a4a93a",
   "metadata": {},
   "outputs": [
    {
     "data": {
      "text/plain": [
       "-21"
      ]
     },
     "execution_count": 25,
     "metadata": {},
     "output_type": "execute_result"
    }
   ],
   "source": [
    "~20#negation"
   ]
  },
  {
   "cell_type": "code",
   "execution_count": 26,
   "id": "ae3ac08c-a129-40e6-a193-e6de5bae5d82",
   "metadata": {},
   "outputs": [
    {
     "data": {
      "text/plain": [
       "'0b10100'"
      ]
     },
     "execution_count": 26,
     "metadata": {},
     "output_type": "execute_result"
    }
   ],
   "source": [
    "bin(20)"
   ]
  },
  {
   "cell_type": "code",
   "execution_count": 28,
   "id": "abc66632-8a7e-4ae3-8ce2-c609437ccbdd",
   "metadata": {},
   "outputs": [
    {
     "data": {
      "text/plain": [
       "'-0b10101'"
      ]
     },
     "execution_count": 28,
     "metadata": {},
     "output_type": "execute_result"
    }
   ],
   "source": [
    "bin(-21)"
   ]
  },
  {
   "cell_type": "code",
   "execution_count": 29,
   "id": "57bce6d3-f064-46c3-9ae1-c1db439bbbc6",
   "metadata": {},
   "outputs": [],
   "source": [
    "  a = 8#right shift operator and ledt shift oprator"
   ]
  },
  {
   "cell_type": "code",
   "execution_count": 30,
   "id": "dce94377-d699-4cb1-9714-2a6888a0d6fa",
   "metadata": {},
   "outputs": [
    {
     "data": {
      "text/plain": [
       "'0b1000'"
      ]
     },
     "execution_count": 30,
     "metadata": {},
     "output_type": "execute_result"
    }
   ],
   "source": [
    "bin(a)"
   ]
  },
  {
   "cell_type": "code",
   "execution_count": 31,
   "id": "4f2a9d97-3d76-437a-b069-70cfddb7d524",
   "metadata": {},
   "outputs": [
    {
     "data": {
      "text/plain": [
       "2"
      ]
     },
     "execution_count": 31,
     "metadata": {},
     "output_type": "execute_result"
    }
   ],
   "source": [
    "a>>2"
   ]
  },
  {
   "cell_type": "code",
   "execution_count": 33,
   "id": "cf2a3ebe-3e0a-40ef-8936-daef79f6ac75",
   "metadata": {},
   "outputs": [
    {
     "data": {
      "text/plain": [
       "'0b10'"
      ]
     },
     "execution_count": 33,
     "metadata": {},
     "output_type": "execute_result"
    }
   ],
   "source": [
    "bin(2)"
   ]
  },
  {
   "cell_type": "code",
   "execution_count": 34,
   "id": "61e9bdf7-f5c9-42e6-9c3d-8f557074b2a3",
   "metadata": {},
   "outputs": [
    {
     "data": {
      "text/plain": [
       "1"
      ]
     },
     "execution_count": 34,
     "metadata": {},
     "output_type": "execute_result"
    }
   ],
   "source": [
    "a>>3 #right shift"
   ]
  },
  {
   "cell_type": "code",
   "execution_count": 41,
   "id": "d74f8885-fec1-4111-a54b-0ffaf1c89c5c",
   "metadata": {},
   "outputs": [
    {
     "data": {
      "text/plain": [
       "'0b1'"
      ]
     },
     "execution_count": 41,
     "metadata": {},
     "output_type": "execute_result"
    }
   ],
   "source": [
    "bin(1)"
   ]
  },
  {
   "cell_type": "code",
   "execution_count": 36,
   "id": "a0364b85-fb1b-4e35-9121-ad6d79479a43",
   "metadata": {},
   "outputs": [],
   "source": [
    " a =20"
   ]
  },
  {
   "cell_type": "code",
   "execution_count": 37,
   "id": "4caf3f7f-9328-47eb-9da3-c11d39bdb329",
   "metadata": {},
   "outputs": [
    {
     "data": {
      "text/plain": [
       "80"
      ]
     },
     "execution_count": 37,
     "metadata": {},
     "output_type": "execute_result"
    }
   ],
   "source": [
    "a << 2"
   ]
  },
  {
   "cell_type": "code",
   "execution_count": 38,
   "id": "7b307ca4-f679-49c0-8d6c-065b6cb9d2a7",
   "metadata": {},
   "outputs": [
    {
     "data": {
      "text/plain": [
       "'0b10100'"
      ]
     },
     "execution_count": 38,
     "metadata": {},
     "output_type": "execute_result"
    }
   ],
   "source": [
    "bin (20)"
   ]
  },
  {
   "cell_type": "code",
   "execution_count": 40,
   "id": "c8d9dda0-b126-4440-addf-faa0d7a768c2",
   "metadata": {},
   "outputs": [
    {
     "data": {
      "text/plain": [
       "'0b1010000'"
      ]
     },
     "execution_count": 40,
     "metadata": {},
     "output_type": "execute_result"
    }
   ],
   "source": [
    " bin(80)"
   ]
  },
  {
   "cell_type": "code",
   "execution_count": 42,
   "id": "4fe58ad8-d16f-4c26-99e0-7bb642166a5f",
   "metadata": {},
   "outputs": [],
   "source": [
    "a  =10 #assigment opreator #a = a+1"
   ]
  },
  {
   "cell_type": "code",
   "execution_count": 43,
   "id": "6ebeebf9-1267-4c1f-a454-9d77d4203466",
   "metadata": {},
   "outputs": [],
   "source": [
    "a+=1\n"
   ]
  },
  {
   "cell_type": "code",
   "execution_count": 44,
   "id": "48619e2b-b4b8-48b0-be31-f158553f0a57",
   "metadata": {},
   "outputs": [
    {
     "data": {
      "text/plain": [
       "11"
      ]
     },
     "execution_count": 44,
     "metadata": {},
     "output_type": "execute_result"
    }
   ],
   "source": [
    "a"
   ]
  },
  {
   "cell_type": "code",
   "execution_count": 46,
   "id": "e066a788-3970-4bc6-9933-a707ccb5172d",
   "metadata": {},
   "outputs": [],
   "source": [
    " b=12"
   ]
  },
  {
   "cell_type": "code",
   "execution_count": 47,
   "id": "2b61ea4d-e475-4069-acee-1cfc02088bba",
   "metadata": {},
   "outputs": [],
   "source": [
    "b+=2"
   ]
  },
  {
   "cell_type": "code",
   "execution_count": 48,
   "id": "309ab691-3084-48cd-a267-ebf0ab307e52",
   "metadata": {},
   "outputs": [
    {
     "data": {
      "text/plain": [
       "14"
      ]
     },
     "execution_count": 48,
     "metadata": {},
     "output_type": "execute_result"
    }
   ],
   "source": [
    "b"
   ]
  },
  {
   "cell_type": "code",
   "execution_count": 49,
   "id": "21e04df1-45e4-447c-8ad9-245e9af7f95c",
   "metadata": {},
   "outputs": [],
   "source": [
    "b = b+1"
   ]
  },
  {
   "cell_type": "code",
   "execution_count": 50,
   "id": "bd302a26-be18-4ceb-b065-46695640721b",
   "metadata": {},
   "outputs": [
    {
     "data": {
      "text/plain": [
       "15"
      ]
     },
     "execution_count": 50,
     "metadata": {},
     "output_type": "execute_result"
    }
   ],
   "source": [
    "b\n"
   ]
  },
  {
   "cell_type": "code",
   "execution_count": 51,
   "id": "50b998b1-6625-4235-a3e1-c0b9c0565afc",
   "metadata": {},
   "outputs": [],
   "source": [
    "c=20"
   ]
  },
  {
   "cell_type": "code",
   "execution_count": 52,
   "id": "a138d130-439d-40e7-bf5e-12a4e58d30a5",
   "metadata": {},
   "outputs": [],
   "source": [
    "c=c-1"
   ]
  },
  {
   "cell_type": "code",
   "execution_count": 53,
   "id": "de5ff663-36f0-4bea-98ba-69dca7b4f84d",
   "metadata": {},
   "outputs": [
    {
     "data": {
      "text/plain": [
       "19"
      ]
     },
     "execution_count": 53,
     "metadata": {},
     "output_type": "execute_result"
    }
   ],
   "source": [
    "c"
   ]
  },
  {
   "cell_type": "code",
   "execution_count": null,
   "id": "41cec01f-495c-4e24-a066-77e3d5f77084",
   "metadata": {},
   "outputs": [],
   "source": []
  }
 ],
 "metadata": {
  "kernelspec": {
   "display_name": "Python 3 (ipykernel)",
   "language": "python",
   "name": "python3"
  },
  "language_info": {
   "codemirror_mode": {
    "name": "ipython",
    "version": 3
   },
   "file_extension": ".py",
   "mimetype": "text/x-python",
   "name": "python",
   "nbconvert_exporter": "python",
   "pygments_lexer": "ipython3",
   "version": "3.10.8"
  }
 },
 "nbformat": 4,
 "nbformat_minor": 5
}
