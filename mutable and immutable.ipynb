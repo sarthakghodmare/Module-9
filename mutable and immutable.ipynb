{
 "cells": [
  {
   "cell_type": "code",
   "execution_count": 1,
   "id": "bb7a667d-694c-4222-9f8d-3b06c9aa64c8",
   "metadata": {},
   "outputs": [],
   "source": [
    "s1='sar'"
   ]
  },
  {
   "cell_type": "code",
   "execution_count": 2,
   "id": "37e18847-9a9a-4e69-a2e4-f30b8b4d84f2",
   "metadata": {},
   "outputs": [],
   "source": [
    "s=\"sarthak\""
   ]
  },
  {
   "cell_type": "code",
   "execution_count": 3,
   "id": "aff85ccb-bcea-460c-aa69-003b604fbde9",
   "metadata": {},
   "outputs": [
    {
     "data": {
      "text/plain": [
       "str"
      ]
     },
     "execution_count": 3,
     "metadata": {},
     "output_type": "execute_result"
    }
   ],
   "source": [
    "type(s)"
   ]
  },
  {
   "cell_type": "code",
   "execution_count": 4,
   "id": "7cdc55e4-e897-4023-8c41-7f59dfe1d685",
   "metadata": {},
   "outputs": [
    {
     "data": {
      "text/plain": [
       "str"
      ]
     },
     "execution_count": 4,
     "metadata": {},
     "output_type": "execute_result"
    }
   ],
   "source": [
    "type(s1)"
   ]
  },
  {
   "cell_type": "code",
   "execution_count": 5,
   "id": "ad44731b-1512-4257-8b37-73b09fe5d25b",
   "metadata": {},
   "outputs": [],
   "source": [
    "l=[1,2,3,4,5,\"sarthak\",4+5j,True,25.5]"
   ]
  },
  {
   "cell_type": "code",
   "execution_count": 6,
   "id": "f6aef4ea-cc7e-4485-84bf-5677e25ff794",
   "metadata": {},
   "outputs": [
    {
     "data": {
      "text/plain": [
       "list"
      ]
     },
     "execution_count": 6,
     "metadata": {},
     "output_type": "execute_result"
    }
   ],
   "source": [
    "type(l)"
   ]
  },
  {
   "cell_type": "code",
   "execution_count": 7,
   "id": "d2459de3-7941-4e67-9084-819ec2a3a324",
   "metadata": {},
   "outputs": [
    {
     "data": {
      "text/plain": [
       "'s'"
      ]
     },
     "execution_count": 7,
     "metadata": {},
     "output_type": "execute_result"
    }
   ],
   "source": [
    "s[0]"
   ]
  },
  {
   "cell_type": "code",
   "execution_count": 8,
   "id": "3c60307b-e6d4-4c29-b446-5d576314449f",
   "metadata": {},
   "outputs": [
    {
     "data": {
      "text/plain": [
       "'h'"
      ]
     },
     "execution_count": 8,
     "metadata": {},
     "output_type": "execute_result"
    }
   ],
   "source": [
    "s[4]"
   ]
  },
  {
   "cell_type": "code",
   "execution_count": 9,
   "id": "cd5f693a-fea1-4f03-ae1d-f2ceaf20d3b0",
   "metadata": {},
   "outputs": [
    {
     "data": {
      "text/plain": [
       "'sarthak'"
      ]
     },
     "execution_count": 9,
     "metadata": {},
     "output_type": "execute_result"
    }
   ],
   "source": [
    "l[5]"
   ]
  },
  {
   "cell_type": "code",
   "execution_count": 10,
   "id": "b1838daa-8c65-4571-9be3-ad011cfacdbc",
   "metadata": {},
   "outputs": [
    {
     "data": {
      "text/plain": [
       "(4+5j)"
      ]
     },
     "execution_count": 10,
     "metadata": {},
     "output_type": "execute_result"
    }
   ],
   "source": [
    "l[6]"
   ]
  },
  {
   "cell_type": "code",
   "execution_count": 11,
   "id": "bed0c437-24c9-4650-94b7-0d0a358a082b",
   "metadata": {},
   "outputs": [
    {
     "data": {
      "text/plain": [
       "True"
      ]
     },
     "execution_count": 11,
     "metadata": {},
     "output_type": "execute_result"
    }
   ],
   "source": [
    "l[-2]"
   ]
  },
  {
   "cell_type": "code",
   "execution_count": 12,
   "id": "559c2c44-d731-4751-85b6-f5300a6fc35f",
   "metadata": {},
   "outputs": [
    {
     "data": {
      "text/plain": [
       "25.5"
      ]
     },
     "execution_count": 12,
     "metadata": {},
     "output_type": "execute_result"
    }
   ],
   "source": [
    "l[-1]"
   ]
  },
  {
   "cell_type": "code",
   "execution_count": 13,
   "id": "2223bea6-75a2-4d5d-971d-a9847815ac16",
   "metadata": {},
   "outputs": [],
   "source": [
    "l[2]=300 "
   ]
  },
  {
   "cell_type": "code",
   "execution_count": 14,
   "id": "ffcc02a1-c990-4fe4-8053-498aa0ece607",
   "metadata": {},
   "outputs": [
    {
     "data": {
      "text/plain": [
       "[1, 2, 300, 4, 5, 'sarthak', (4+5j), True, 25.5]"
      ]
     },
     "execution_count": 14,
     "metadata": {},
     "output_type": "execute_result"
    }
   ],
   "source": [
    "l\n"
   ]
  },
  {
   "cell_type": "code",
   "execution_count": 15,
   "id": "fbb66675-1107-48a8-8d8d-199eab1371bf",
   "metadata": {},
   "outputs": [],
   "source": [
    "l[4] = \"skills\" #changes does  happen in particular indexes in case of list mutuable objects both are containers. #list is mutable"
   ]
  },
  {
   "cell_type": "code",
   "execution_count": 16,
   "id": "c99f3159-3590-41ea-b037-901799f0591c",
   "metadata": {},
   "outputs": [
    {
     "data": {
      "text/plain": [
       "[1, 2, 300, 4, 'skills', 'sarthak', (4+5j), True, 25.5]"
      ]
     },
     "execution_count": 16,
     "metadata": {},
     "output_type": "execute_result"
    }
   ],
   "source": [
    "l\n"
   ]
  },
  {
   "cell_type": "code",
   "execution_count": 17,
   "id": "699ad206-a259-451a-926a-914c1745855b",
   "metadata": {},
   "outputs": [
    {
     "data": {
      "text/plain": [
       "'sarthak'"
      ]
     },
     "execution_count": 17,
     "metadata": {},
     "output_type": "execute_result"
    }
   ],
   "source": [
    "s\n"
   ]
  },
  {
   "cell_type": "code",
   "execution_count": 18,
   "id": "a0e034cd-d541-42fd-a7e5-5722c722cda9",
   "metadata": {},
   "outputs": [
    {
     "ename": "TypeError",
     "evalue": "'str' object does not support item assignment",
     "output_type": "error",
     "traceback": [
      "\u001b[0;31m---------------------------------------------------------------------------\u001b[0m",
      "\u001b[0;31mTypeError\u001b[0m                                 Traceback (most recent call last)",
      "Cell \u001b[0;32mIn[18], line 1\u001b[0m\n\u001b[0;32m----> 1\u001b[0m \u001b[43ms\u001b[49m\u001b[43m[\u001b[49m\u001b[38;5;241;43m2\u001b[39;49m\u001b[43m]\u001b[49m \u001b[38;5;241m=\u001b[39m\u001b[38;5;124m\"\u001b[39m\u001b[38;5;124md\u001b[39m\u001b[38;5;124m\"\u001b[39m \u001b[38;5;66;03m#changes does not happen in particular indexes in case of string  immutuable objects both are containers. #string is immutable\u001b[39;00m\n",
      "\u001b[0;31mTypeError\u001b[0m: 'str' object does not support item assignment"
     ]
    }
   ],
   "source": [
    "s[2] =\"d\" #changes does not happen in particular indexes in case of string  immutuable objects both are containers. #string is immutable"
   ]
  },
  {
   "cell_type": "code",
   "execution_count": null,
   "id": "34ad4da1-955a-4f37-a54b-724117fc9df7",
   "metadata": {},
   "outputs": [],
   "source": [
    "s =\"sadthak\" #in this case we perform variables overwritting, we did not perform indexing ,we change here full data in this case mutubaale and immutable did not work"
   ]
  },
  {
   "cell_type": "code",
   "execution_count": null,
   "id": "ea33e186-5aa3-4eb6-9ce2-3d21e7353fb2",
   "metadata": {},
   "outputs": [],
   "source": [
    "s"
   ]
  },
  {
   "cell_type": "code",
   "execution_count": null,
   "id": "096372f2-e995-4d89-a7a8-af3e513d5df7",
   "metadata": {},
   "outputs": [],
   "source": [
    "s\n"
   ]
  },
  {
   "cell_type": "code",
   "execution_count": 20,
   "id": "f9984445-5282-4eb7-9345-aabbb7194786",
   "metadata": {},
   "outputs": [
    {
     "data": {
      "text/plain": [
       "'sarthak'"
      ]
     },
     "execution_count": 20,
     "metadata": {},
     "output_type": "execute_result"
    }
   ],
   "source": [
    "s\n"
   ]
  },
  {
   "cell_type": "code",
   "execution_count": 19,
   "id": "426005a6-bcb7-4df8-a370-892970161674",
   "metadata": {},
   "outputs": [
    {
     "data": {
      "text/plain": [
       "'sarthak'"
      ]
     },
     "execution_count": 19,
     "metadata": {},
     "output_type": "execute_result"
    }
   ],
   "source": [
    "s"
   ]
  },
  {
   "cell_type": "code",
   "execution_count": 21,
   "id": "ab30fb41-6c8a-4fdb-811e-90a1d7af8f7e",
   "metadata": {},
   "outputs": [
    {
     "data": {
      "text/plain": [
       "'sarthak'"
      ]
     },
     "execution_count": 21,
     "metadata": {},
     "output_type": "execute_result"
    }
   ],
   "source": [
    "s"
   ]
  },
  {
   "cell_type": "code",
   "execution_count": null,
   "id": "203b67c0-2755-4f48-ad1d-789d54ef7e45",
   "metadata": {},
   "outputs": [],
   "source": []
  }
 ],
 "metadata": {
  "kernelspec": {
   "display_name": "Python 3 (ipykernel)",
   "language": "python",
   "name": "python3"
  },
  "language_info": {
   "codemirror_mode": {
    "name": "ipython",
    "version": 3
   },
   "file_extension": ".py",
   "mimetype": "text/x-python",
   "name": "python",
   "nbconvert_exporter": "python",
   "pygments_lexer": "ipython3",
   "version": "3.10.8"
  }
 },
 "nbformat": 4,
 "nbformat_minor": 5
}
